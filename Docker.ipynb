{
 "cells": [
  {
   "cell_type": "code",
   "execution_count": null,
   "id": "06102a01",
   "metadata": {},
   "outputs": [],
   "source": [
    "# Code in lambda to create Docker\n",
    "# pip install\n",
    "import json\n",
    "import boto3\n",
    "import urllib.request\n",
    "\n",
    "def lambda_handler(event, context):\n",
    "    ssm_client = boto3.client('ssm', region_name='ap-south-1')\n",
    "    \n",
    "    params={\"commands\":[\"docker run -dit busybox\"],\"workingDirectory\":[\"/tmp\"],\"executionTimeout\":[\"3600\"]}\n",
    "    \n",
    "    response = ssm_client.send_command(DocumentName=\"AWS-RunShellScript\", InstanceIds=[\"i-0484dcd187b23254e\"],Comment='logging the', TimeoutSeconds=600, Parameters=params)\n",
    "    \n",
    "    print(response)\n",
    "\n",
    "    # TODO implement\n",
    "    return {\n",
    "        'statusCode': 200,\n",
    "        'body': json.dumps('Started another container')\n",
    "    }"
   ]
  }
 ],
 "metadata": {
  "kernelspec": {
   "display_name": "Python 3 (ipykernel)",
   "language": "python",
   "name": "python3"
  },
  "language_info": {
   "codemirror_mode": {
    "name": "ipython",
    "version": 3
   },
   "file_extension": ".py",
   "mimetype": "text/x-python",
   "name": "python",
   "nbconvert_exporter": "python",
   "pygments_lexer": "ipython3",
   "version": "3.9.12"
  }
 },
 "nbformat": 4,
 "nbformat_minor": 5
}
